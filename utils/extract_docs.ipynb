{
 "cells": [
  {
   "cell_type": "code",
   "execution_count": 6,
   "metadata": {},
   "outputs": [],
   "source": [
    "pdf_path = 'GENESIS_User_Documentation_v4.3_07.05.21_EN.pdf'\n",
    "\n",
    "pdf = pdfplumber.open(pdf_path)"
   ]
  },
  {
   "cell_type": "code",
   "execution_count": 29,
   "metadata": {},
   "outputs": [],
   "source": [
    "t = pdf.pages[8].extract_tables() "
   ]
  },
  {
   "cell_type": "code",
   "execution_count": 45,
   "metadata": {},
   "outputs": [],
   "source": []
  },
  {
   "cell_type": "code",
   "execution_count": 57,
   "metadata": {},
   "outputs": [
    {
     "data": {
      "text/plain": [
       "<PDFObjRef:204>"
      ]
     },
     "execution_count": 57,
     "metadata": {},
     "output_type": "execute_result"
    }
   ],
   "source": [
    "outline[3][\"D\"][0]"
   ]
  },
  {
   "cell_type": "code",
   "execution_count": null,
   "metadata": {},
   "outputs": [],
   "source": []
  },
  {
   "cell_type": "code",
   "execution_count": null,
   "metadata": {},
   "outputs": [],
   "source": []
  },
  {
   "cell_type": "code",
   "execution_count": 202,
   "metadata": {},
   "outputs": [],
   "source": [
    "import re\n",
    "\n",
    "def strip_numbers_and_dots(input_string):\n",
    "    return re.sub(r'[\\d.]+', '', input_string).strip()\n",
    "\n",
    "def extract_last_number(input_string):\n",
    "    matches = re.findall(r'\\d+', input_string)\n",
    "    print(matches)\n",
    "    if matches:\n",
    "        return int(matches[-1])\n",
    "    return None"
   ]
  },
  {
   "cell_type": "code",
   "execution_count": 165,
   "metadata": {},
   "outputs": [],
   "source": [
    "endpoints = [\"find\", \"whoami\", \"logincheck\"]"
   ]
  },
  {
   "cell_type": "code",
   "execution_count": 210,
   "metadata": {},
   "outputs": [],
   "source": [
    "toc = pdf.doc.get_outlines()\n",
    "titles = list()\n",
    "for line in toc:\n",
    "    title = line[1]\n",
    "    titles.append(title)"
   ]
  },
  {
   "cell_type": "code",
   "execution_count": 205,
   "metadata": {},
   "outputs": [],
   "source": [
    "# pdf.doc.get_outlines() does not give page numbersa\n",
    "# TOC = dict()\n",
    "\n",
    "# for page in pdf.pages[1:4]:\n",
    "#     toc = page.extract_text()\n",
    "#     toc = toc.split(\"\\n\")\n",
    "#     toc = toc[1:-2]\n",
    "\n",
    "#     for line in toc:\n",
    "#         title = strip_numbers_and_dots(line)\n",
    "#         page_number = extract_last_number(line)\n",
    "#         if title not in TOC.keys():\n",
    "#             TOC[title] = page_number"
   ]
  },
  {
   "cell_type": "code",
   "execution_count": 168,
   "metadata": {},
   "outputs": [
    {
     "name": "stdout",
     "output_type": "stream",
     "text": [
      "11\n",
      "9\n",
      "9\n"
     ]
    }
   ],
   "source": [
    "for endpoint in endpoints:\n",
    "    print(TOC[endpoint])"
   ]
  },
  {
   "cell_type": "code",
   "execution_count": null,
   "metadata": {},
   "outputs": [],
   "source": []
  },
  {
   "cell_type": "code",
   "execution_count": 212,
   "metadata": {},
   "outputs": [],
   "source": [
    "for page_no, page in enumerate(pdf.pages):\n",
    "    text = page.extract_text()\n",
    "\n",
    "    if page_no > 30:\n",
    "        break"
   ]
  },
  {
   "cell_type": "code",
   "execution_count": 200,
   "metadata": {},
   "outputs": [
    {
     "name": "stdout",
     "output_type": "stream",
     "text": [
      "80\n"
     ]
    },
    {
     "data": {
      "text/plain": [
       "1"
      ]
     },
     "execution_count": 200,
     "metadata": {},
     "output_type": "execute_result"
    }
   ],
   "source": [
    "for page_number in range(80, 81):\n",
    "    print(page_number)\n",
    "    page = pdf.pages[page_number]\n",
    "    table = page.extract_tables()\n",
    "len(table)"
   ]
  },
  {
   "cell_type": "code",
   "execution_count": 201,
   "metadata": {},
   "outputs": [
    {
     "data": {
      "text/plain": [
       "[[['', 'Parameter', '', '', 'Description', '', '', 'Range of values', ''],\n",
       "  ['', 'Accountdata', None, None, None, None, None, None, ''],\n",
       "  ['', 'username', '', 'User name', None, None, '10 characters', None, None],\n",
       "  ['',\n",
       "   'password',\n",
       "   '',\n",
       "   'The user‘s password',\n",
       "   None,\n",
       "   None,\n",
       "   '10-20 characters',\n",
       "   None,\n",
       "   None],\n",
       "  ['', 'Criterion', None, None, None, None, None, None, ''],\n",
       "  ['name',\n",
       "   'name',\n",
       "   None,\n",
       "   'Name of the timeseries.',\n",
       "   None,\n",
       "   None,\n",
       "   '1-15 characters\\n„*“-Notation',\n",
       "   None,\n",
       "   None]]]"
      ]
     },
     "execution_count": 201,
     "metadata": {},
     "output_type": "execute_result"
    }
   ],
   "source": [
    "table"
   ]
  },
  {
   "cell_type": "code",
   "execution_count": 198,
   "metadata": {},
   "outputs": [],
   "source": [
    "def convert(table):\n",
    "\n",
    "    table = table.copy()\n",
    "    # Remove table header\n",
    "    table.pop(0)\n",
    "\n",
    "    subheadings = set(['Account data', 'General'])\n",
    "    for idx, row in enumerate(table):\n",
    "        if subheadings.intersection(row):\n",
    "            table.pop(idx)\n",
    "\n",
    "    return table"
   ]
  },
  {
   "cell_type": "code",
   "execution_count": 199,
   "metadata": {},
   "outputs": [
    {
     "data": {
      "text/plain": [
       "[['', 'Special (map)', None, None, None, ''],\n",
       " ['', 'maptype', '', 'Type of map', '- 0 - map', None],\n",
       " ['classes',\n",
       "  'classes',\n",
       "  None,\n",
       "  'Number of classes of the values. A class\\ncomprises a range of values which will be\\ndisplayed in the same colour in the map.',\n",
       "  'Number in the range:\\n2,3,4,5',\n",
       "  None],\n",
       " ['classification',\n",
       "  None,\n",
       "  None,\n",
       "  'Setting 0 means that the ranges of values\\nare of equal length for all classes.\\nSetting 1 will create classes with the same\\namount of values in each class, while the\\nrange of values will differ.',\n",
       "  '- 0 – equal value\\nrange\\n- 1 – equal\\nfrequency',\n",
       "  None],\n",
       " ['zoom',\n",
       "  None,\n",
       "  None,\n",
       "  'Number of pixels / resolution',\n",
       "  '- 0 – 480x320\\n- 1 – 640x480\\n- 2 – 800x600\\n- 3 – 1024x768',\n",
       "  None],\n",
       " ['', 'Selection', None, None, None, ''],\n",
       " ['contents',\n",
       "  'contents',\n",
       "  None,\n",
       "  'Names of the contents (value variables)',\n",
       "  'Any number of names,\\nseparated by “,”\\nwithout blank. Every\\nname has 1-6\\ncharacters.',\n",
       "  None],\n",
       " ['startyear',\n",
       "  None,\n",
       "  None,\n",
       "  'Data starting this year will be exported.',\n",
       "  '4-digit (yyyy) or\\n4+2-digit (yyyy/yy);\\nvalues between ”1900”\\nand ”2100”',\n",
       "  None],\n",
       " ['endyear',\n",
       "  None,\n",
       "  None,\n",
       "  'Data ending this year will be exported.',\n",
       "  '4-digit (yyyy) or\\n4+2-digit (yyyy/yy);\\nvalues between ”1900”\\nand ”2100”',\n",
       "  None],\n",
       " ['timeslices',\n",
       "  None,\n",
       "  None,\n",
       "  'Number of recent time slices that are to be\\nexported.',\n",
       "  'positive integer',\n",
       "  None],\n",
       " ['regionalvariable',\n",
       "  None,\n",
       "  None,\n",
       "  '”code” of the regional variable to which\\nthe selection ”regionalkey ” is to be\\napplied',\n",
       "  '1-6 characters',\n",
       "  None],\n",
       " ['regionalkey',\n",
       "  None,\n",
       "  None,\n",
       "  'Application of the Official Municipality\\nCode (AGS); several codes can be indicate,\\nseparated by ”,”.',\n",
       "  '1-8 characters\\n”*” notation',\n",
       "  None]]"
      ]
     },
     "execution_count": 199,
     "metadata": {},
     "output_type": "execute_result"
    }
   ],
   "source": [
    "convert(table[0])"
   ]
  },
  {
   "cell_type": "code",
   "execution_count": 37,
   "metadata": {},
   "outputs": [],
   "source": [
    "toc = pdf.pages[1"
   ]
  },
  {
   "cell_type": "code",
   "execution_count": 43,
   "metadata": {},
   "outputs": [
    {
     "name": "stdout",
     "output_type": "stream",
     "text": [
      "a\n"
     ]
    }
   ],
   "source": [
    "print(toc.extract_text()[5])"
   ]
  },
  {
   "cell_type": "code",
   "execution_count": 16,
   "metadata": {},
   "outputs": [
    {
     "data": {
      "text/plain": [
       "{'Account data'}"
      ]
     },
     "execution_count": 16,
     "metadata": {},
     "output_type": "execute_result"
    }
   ],
   "source": [
    "set(['Account data', ])"
   ]
  },
  {
   "cell_type": "code",
   "execution_count": 185,
   "metadata": {},
   "outputs": [],
   "source": [
    "\n",
    "\n",
    "\n"
   ]
  },
  {
   "cell_type": "code",
   "execution_count": 27,
   "metadata": {},
   "outputs": [],
   "source": [
    "invalid = set(['Account data', 'Genesral'])"
   ]
  },
  {
   "cell_type": "code",
   "execution_count": 28,
   "metadata": {},
   "outputs": [],
   "source": [
    "if invalid.intersection(t[1][0]):\n",
    "    print(1)"
   ]
  },
  {
   "cell_type": "code",
   "execution_count": 35,
   "metadata": {},
   "outputs": [
    {
     "data": {
      "text/plain": [
       "[['', 'username', '', 'User name', None, None, '10 characters', None, None],\n",
       " ['',\n",
       "  'password',\n",
       "  '',\n",
       "  'The user‘s password',\n",
       "  None,\n",
       "  None,\n",
       "  '10-20 characters',\n",
       "  None,\n",
       "  None],\n",
       " ['language',\n",
       "  'language',\n",
       "  None,\n",
       "  'Messages and descriptions etc. will be delivered in\\nthis language. (partly later!)',\n",
       "  None,\n",
       "  None,\n",
       "  '- de = German\\n- en = English',\n",
       "  None,\n",
       "  None]]"
      ]
     },
     "execution_count": 35,
     "metadata": {},
     "output_type": "execute_result"
    }
   ],
   "source": [
    "convert(t[1])"
   ]
  },
  {
   "cell_type": "code",
   "execution_count": null,
   "metadata": {},
   "outputs": [],
   "source": []
  },
  {
   "cell_type": "code",
   "execution_count": null,
   "metadata": {},
   "outputs": [],
   "source": []
  },
  {
   "cell_type": "code",
   "execution_count": null,
   "metadata": {},
   "outputs": [],
   "source": []
  },
  {
   "cell_type": "code",
   "execution_count": 13,
   "metadata": {},
   "outputs": [
    {
     "data": {
      "text/plain": [
       "[['', 'Parameter', '', '', 'Description', '', '', 'Range of values', ''],\n",
       " ['', 'Account data', None, None, None, None, None, None, ''],\n",
       " ['', 'username', '', 'User name', None, None, '10 characters', None, None],\n",
       " ['',\n",
       "  'password',\n",
       "  '',\n",
       "  'The user‘s password',\n",
       "  None,\n",
       "  None,\n",
       "  '10-20 characters',\n",
       "  None,\n",
       "  None],\n",
       " ['', 'General', None, None, None, None, None, None, ''],\n",
       " ['language',\n",
       "  'language',\n",
       "  None,\n",
       "  'Messages and descriptions etc. will be delivered in\\nthis language. (partly later!)',\n",
       "  None,\n",
       "  None,\n",
       "  '- de = German\\n- en = English',\n",
       "  None,\n",
       "  None]]"
      ]
     },
     "execution_count": 13,
     "metadata": {},
     "output_type": "execute_result"
    }
   ],
   "source": [
    "for idx, row in enumerate(t[1]):\n",
    "    if "
   ]
  },
  {
   "cell_type": "code",
   "execution_count": 4,
   "metadata": {},
   "outputs": [
    {
     "ename": "KeyboardInterrupt",
     "evalue": "",
     "output_type": "error",
     "traceback": [
      "\u001b[1;31m---------------------------------------------------------------------------\u001b[0m",
      "\u001b[1;31mKeyboardInterrupt\u001b[0m                         Traceback (most recent call last)",
      "Cell \u001b[1;32mIn[4], line 29\u001b[0m\n\u001b[0;32m     26\u001b[0m         \u001b[39mreturn\u001b[39;00m table_data\n\u001b[0;32m     28\u001b[0m \u001b[39m# Replace 'your_pdf_file.pdf' with the actual path to your PDF document\u001b[39;00m\n\u001b[1;32m---> 29\u001b[0m table_data \u001b[39m=\u001b[39m extract_table_data(\u001b[39m'\u001b[39;49m\u001b[39mGENESIS_User_Documentation_v4.3_07.05.21_EN.pdf\u001b[39;49m\u001b[39m'\u001b[39;49m)\n\u001b[0;32m     31\u001b[0m \u001b[39m# Display the extracted data\u001b[39;00m\n\u001b[0;32m     32\u001b[0m \u001b[39mfor\u001b[39;00m data \u001b[39min\u001b[39;00m table_data:\n",
      "Cell \u001b[1;32mIn[4], line 8\u001b[0m, in \u001b[0;36mextract_table_data\u001b[1;34m(pdf_path)\u001b[0m\n\u001b[0;32m      5\u001b[0m table_data \u001b[39m=\u001b[39m []\n\u001b[0;32m      7\u001b[0m \u001b[39mfor\u001b[39;00m page \u001b[39min\u001b[39;00m pdf\u001b[39m.\u001b[39mpages:\n\u001b[1;32m----> 8\u001b[0m     tables \u001b[39m=\u001b[39m page\u001b[39m.\u001b[39;49mextract_tables()\n\u001b[0;32m     10\u001b[0m     \u001b[39mfor\u001b[39;00m table \u001b[39min\u001b[39;00m tables:\n\u001b[0;32m     11\u001b[0m         \u001b[39m# Assuming each table has three columns\u001b[39;00m\n\u001b[0;32m     12\u001b[0m         \u001b[39mif\u001b[39;00m \u001b[39mlen\u001b[39m(table[\u001b[39m0\u001b[39m]) \u001b[39m==\u001b[39m \u001b[39m3\u001b[39m:\n\u001b[0;32m     13\u001b[0m             \u001b[39m# Extract data from the table\u001b[39;00m\n",
      "File \u001b[1;32mc:\\Users\\roman\\miniconda3\\envs\\genesis-online\\Lib\\site-packages\\pdfplumber\\page.py:362\u001b[0m, in \u001b[0;36mPage.extract_tables\u001b[1;34m(self, table_settings)\u001b[0m\n\u001b[0;32m    358\u001b[0m \u001b[39mdef\u001b[39;00m \u001b[39mextract_tables\u001b[39m(\n\u001b[0;32m    359\u001b[0m     \u001b[39mself\u001b[39m, table_settings: Optional[T_table_settings] \u001b[39m=\u001b[39m \u001b[39mNone\u001b[39;00m\n\u001b[0;32m    360\u001b[0m ) \u001b[39m-\u001b[39m\u001b[39m>\u001b[39m List[List[List[Optional[\u001b[39mstr\u001b[39m]]]]:\n\u001b[0;32m    361\u001b[0m     tset \u001b[39m=\u001b[39m TableSettings\u001b[39m.\u001b[39mresolve(table_settings)\n\u001b[1;32m--> 362\u001b[0m     tables \u001b[39m=\u001b[39m \u001b[39mself\u001b[39;49m\u001b[39m.\u001b[39;49mfind_tables(tset)\n\u001b[0;32m    363\u001b[0m     \u001b[39mreturn\u001b[39;00m [table\u001b[39m.\u001b[39mextract(\u001b[39m*\u001b[39m\u001b[39m*\u001b[39m(tset\u001b[39m.\u001b[39mtext_settings \u001b[39mor\u001b[39;00m {})) \u001b[39mfor\u001b[39;00m table \u001b[39min\u001b[39;00m tables]\n",
      "File \u001b[1;32mc:\\Users\\roman\\miniconda3\\envs\\genesis-online\\Lib\\site-packages\\pdfplumber\\page.py:339\u001b[0m, in \u001b[0;36mPage.find_tables\u001b[1;34m(self, table_settings)\u001b[0m\n\u001b[0;32m    335\u001b[0m \u001b[39mdef\u001b[39;00m \u001b[39mfind_tables\u001b[39m(\n\u001b[0;32m    336\u001b[0m     \u001b[39mself\u001b[39m, table_settings: Optional[T_table_settings] \u001b[39m=\u001b[39m \u001b[39mNone\u001b[39;00m\n\u001b[0;32m    337\u001b[0m ) \u001b[39m-\u001b[39m\u001b[39m>\u001b[39m List[Table]:\n\u001b[0;32m    338\u001b[0m     tset \u001b[39m=\u001b[39m TableSettings\u001b[39m.\u001b[39mresolve(table_settings)\n\u001b[1;32m--> 339\u001b[0m     \u001b[39mreturn\u001b[39;00m TableFinder(\u001b[39mself\u001b[39;49m, tset)\u001b[39m.\u001b[39mtables\n",
      "File \u001b[1;32mc:\\Users\\roman\\miniconda3\\envs\\genesis-online\\Lib\\site-packages\\pdfplumber\\table.py:570\u001b[0m, in \u001b[0;36mTableFinder.__init__\u001b[1;34m(self, page, settings)\u001b[0m\n\u001b[0;32m    568\u001b[0m \u001b[39mself\u001b[39m\u001b[39m.\u001b[39mpage \u001b[39m=\u001b[39m page\n\u001b[0;32m    569\u001b[0m \u001b[39mself\u001b[39m\u001b[39m.\u001b[39msettings \u001b[39m=\u001b[39m TableSettings\u001b[39m.\u001b[39mresolve(settings)\n\u001b[1;32m--> 570\u001b[0m \u001b[39mself\u001b[39m\u001b[39m.\u001b[39medges \u001b[39m=\u001b[39m \u001b[39mself\u001b[39;49m\u001b[39m.\u001b[39;49mget_edges()\n\u001b[0;32m    571\u001b[0m \u001b[39mself\u001b[39m\u001b[39m.\u001b[39mintersections \u001b[39m=\u001b[39m edges_to_intersections(\n\u001b[0;32m    572\u001b[0m     \u001b[39mself\u001b[39m\u001b[39m.\u001b[39medges,\n\u001b[0;32m    573\u001b[0m     \u001b[39mself\u001b[39m\u001b[39m.\u001b[39msettings\u001b[39m.\u001b[39mintersection_x_tolerance,\n\u001b[0;32m    574\u001b[0m     \u001b[39mself\u001b[39m\u001b[39m.\u001b[39msettings\u001b[39m.\u001b[39mintersection_y_tolerance,\n\u001b[0;32m    575\u001b[0m )\n\u001b[0;32m    576\u001b[0m \u001b[39mself\u001b[39m\u001b[39m.\u001b[39mcells \u001b[39m=\u001b[39m intersections_to_cells(\u001b[39mself\u001b[39m\u001b[39m.\u001b[39mintersections)\n",
      "File \u001b[1;32mc:\\Users\\roman\\miniconda3\\envs\\genesis-online\\Lib\\site-packages\\pdfplumber\\table.py:621\u001b[0m, in \u001b[0;36mTableFinder.get_edges\u001b[1;34m(self)\u001b[0m\n\u001b[0;32m    609\u001b[0m         v_explicit\u001b[39m.\u001b[39mappend(\n\u001b[0;32m    610\u001b[0m             {\n\u001b[0;32m    611\u001b[0m                 \u001b[39m\"\u001b[39m\u001b[39mx0\u001b[39m\u001b[39m\"\u001b[39m: desc,\n\u001b[1;32m   (...)\u001b[0m\n\u001b[0;32m    617\u001b[0m             }\n\u001b[0;32m    618\u001b[0m         )\n\u001b[0;32m    620\u001b[0m \u001b[39mif\u001b[39;00m v_strat \u001b[39m==\u001b[39m \u001b[39m\"\u001b[39m\u001b[39mlines\u001b[39m\u001b[39m\"\u001b[39m:\n\u001b[1;32m--> 621\u001b[0m     v_base \u001b[39m=\u001b[39m utils\u001b[39m.\u001b[39mfilter_edges(\u001b[39mself\u001b[39;49m\u001b[39m.\u001b[39;49mpage\u001b[39m.\u001b[39;49medges, \u001b[39m\"\u001b[39m\u001b[39mv\u001b[39m\u001b[39m\"\u001b[39m)\n\u001b[0;32m    622\u001b[0m \u001b[39melif\u001b[39;00m v_strat \u001b[39m==\u001b[39m \u001b[39m\"\u001b[39m\u001b[39mlines_strict\u001b[39m\u001b[39m\"\u001b[39m:\n\u001b[0;32m    623\u001b[0m     v_base \u001b[39m=\u001b[39m utils\u001b[39m.\u001b[39mfilter_edges(\u001b[39mself\u001b[39m\u001b[39m.\u001b[39mpage\u001b[39m.\u001b[39medges, \u001b[39m\"\u001b[39m\u001b[39mv\u001b[39m\u001b[39m\"\u001b[39m, edge_type\u001b[39m=\u001b[39m\u001b[39m\"\u001b[39m\u001b[39mline\u001b[39m\u001b[39m\"\u001b[39m)\n",
      "File \u001b[1;32mc:\\Users\\roman\\miniconda3\\envs\\genesis-online\\Lib\\site-packages\\pdfplumber\\container.py:88\u001b[0m, in \u001b[0;36mContainer.edges\u001b[1;34m(self)\u001b[0m\n\u001b[0;32m     86\u001b[0m \u001b[39mif\u001b[39;00m \u001b[39mhasattr\u001b[39m(\u001b[39mself\u001b[39m, \u001b[39m\"\u001b[39m\u001b[39m_edges\u001b[39m\u001b[39m\"\u001b[39m):\n\u001b[0;32m     87\u001b[0m     \u001b[39mreturn\u001b[39;00m \u001b[39mself\u001b[39m\u001b[39m.\u001b[39m_edges\n\u001b[1;32m---> 88\u001b[0m line_edges \u001b[39m=\u001b[39m \u001b[39mlist\u001b[39m(\u001b[39mmap\u001b[39m(utils\u001b[39m.\u001b[39mline_to_edge, \u001b[39mself\u001b[39;49m\u001b[39m.\u001b[39;49mlines))\n\u001b[0;32m     89\u001b[0m \u001b[39mself\u001b[39m\u001b[39m.\u001b[39m_edges: T_obj_list \u001b[39m=\u001b[39m line_edges \u001b[39m+\u001b[39m \u001b[39mself\u001b[39m\u001b[39m.\u001b[39mrect_edges \u001b[39m+\u001b[39m \u001b[39mself\u001b[39m\u001b[39m.\u001b[39mcurve_edges\n\u001b[0;32m     90\u001b[0m \u001b[39mreturn\u001b[39;00m \u001b[39mself\u001b[39m\u001b[39m.\u001b[39m_edges\n",
      "File \u001b[1;32mc:\\Users\\roman\\miniconda3\\envs\\genesis-online\\Lib\\site-packages\\pdfplumber\\container.py:38\u001b[0m, in \u001b[0;36mContainer.lines\u001b[1;34m(self)\u001b[0m\n\u001b[0;32m     36\u001b[0m \u001b[39m@property\u001b[39m\n\u001b[0;32m     37\u001b[0m \u001b[39mdef\u001b[39;00m \u001b[39mlines\u001b[39m(\u001b[39mself\u001b[39m) \u001b[39m-\u001b[39m\u001b[39m>\u001b[39m T_obj_list:\n\u001b[1;32m---> 38\u001b[0m     \u001b[39mreturn\u001b[39;00m \u001b[39mself\u001b[39;49m\u001b[39m.\u001b[39;49mobjects\u001b[39m.\u001b[39mget(\u001b[39m\"\u001b[39m\u001b[39mline\u001b[39m\u001b[39m\"\u001b[39m, [])\n",
      "File \u001b[1;32mc:\\Users\\roman\\miniconda3\\envs\\genesis-online\\Lib\\site-packages\\pdfplumber\\page.py:237\u001b[0m, in \u001b[0;36mPage.objects\u001b[1;34m(self)\u001b[0m\n\u001b[0;32m    235\u001b[0m \u001b[39mif\u001b[39;00m \u001b[39mhasattr\u001b[39m(\u001b[39mself\u001b[39m, \u001b[39m\"\u001b[39m\u001b[39m_objects\u001b[39m\u001b[39m\"\u001b[39m):\n\u001b[0;32m    236\u001b[0m     \u001b[39mreturn\u001b[39;00m \u001b[39mself\u001b[39m\u001b[39m.\u001b[39m_objects\n\u001b[1;32m--> 237\u001b[0m \u001b[39mself\u001b[39m\u001b[39m.\u001b[39m_objects: Dict[\u001b[39mstr\u001b[39m, T_obj_list] \u001b[39m=\u001b[39m \u001b[39mself\u001b[39;49m\u001b[39m.\u001b[39;49mparse_objects()\n\u001b[0;32m    238\u001b[0m \u001b[39mreturn\u001b[39;00m \u001b[39mself\u001b[39m\u001b[39m.\u001b[39m_objects\n",
      "File \u001b[1;32mc:\\Users\\roman\\miniconda3\\envs\\genesis-online\\Lib\\site-packages\\pdfplumber\\page.py:320\u001b[0m, in \u001b[0;36mPage.parse_objects\u001b[1;34m(self)\u001b[0m\n\u001b[0;32m    318\u001b[0m \u001b[39mdef\u001b[39;00m \u001b[39mparse_objects\u001b[39m(\u001b[39mself\u001b[39m) \u001b[39m-\u001b[39m\u001b[39m>\u001b[39m Dict[\u001b[39mstr\u001b[39m, T_obj_list]:\n\u001b[0;32m    319\u001b[0m     objects: Dict[\u001b[39mstr\u001b[39m, T_obj_list] \u001b[39m=\u001b[39m {}\n\u001b[1;32m--> 320\u001b[0m     \u001b[39mfor\u001b[39;00m obj \u001b[39min\u001b[39;00m \u001b[39mself\u001b[39m\u001b[39m.\u001b[39miter_layout_objects(\u001b[39mself\u001b[39m\u001b[39m.\u001b[39mlayout\u001b[39m.\u001b[39m_objs):\n\u001b[0;32m    321\u001b[0m         kind \u001b[39m=\u001b[39m obj[\u001b[39m\"\u001b[39m\u001b[39mobject_type\u001b[39m\u001b[39m\"\u001b[39m]\n\u001b[0;32m    322\u001b[0m         \u001b[39mif\u001b[39;00m kind \u001b[39min\u001b[39;00m [\u001b[39m\"\u001b[39m\u001b[39manno\u001b[39m\u001b[39m\"\u001b[39m]:\n",
      "File \u001b[1;32mc:\\Users\\roman\\miniconda3\\envs\\genesis-online\\Lib\\site-packages\\pdfplumber\\page.py:316\u001b[0m, in \u001b[0;36mPage.iter_layout_objects\u001b[1;34m(self, layout_objects)\u001b[0m\n\u001b[0;32m    314\u001b[0m     \u001b[39myield from\u001b[39;00m \u001b[39mself\u001b[39m\u001b[39m.\u001b[39miter_layout_objects(obj\u001b[39m.\u001b[39m_objs)\n\u001b[0;32m    315\u001b[0m \u001b[39melse\u001b[39;00m:\n\u001b[1;32m--> 316\u001b[0m     \u001b[39myield\u001b[39;00m \u001b[39mself\u001b[39m\u001b[39m.\u001b[39mprocess_object(obj)\n",
      "\u001b[1;31mKeyboardInterrupt\u001b[0m: "
     ]
    }
   ],
   "source": [
    "import pdfplumber\n",
    "\n",
    "def extract_table_data(pdf_path):\n",
    "    with pdfplumber.open(pdf_path) as pdf:\n",
    "        table_data = []\n",
    "\n",
    "        for page in pdf.pages:\n",
    "            tables = page.extract_tables()\n",
    "\n",
    "            for table in tables:\n",
    "                # Assuming each table has three columns\n",
    "                if len(table[0]) == 3:\n",
    "                    # Extract data from the table\n",
    "                    for row in table:\n",
    "                        data = {\n",
    "                            \"Column1\": row[0],\n",
    "                            \"Column2\": row[1],\n",
    "                            \"Column3\": row[2]\n",
    "                        }\n",
    "                        table_data.append(data)\n",
    "\n",
    "                if len(table_data) > 0:\n",
    "                    return table_data\n",
    "\n",
    "\n",
    "        return table_data\n",
    "\n",
    "# Replace 'your_pdf_file.pdf' with the actual path to your PDF document\n",
    "table_data = extract_table_data('GENESIS_User_Documentation_v4.3_07.05.21_EN.pdf')\n",
    "\n",
    "# Display the extracted data\n",
    "for data in table_data:\n",
    "    print(data)\n"
   ]
  },
  {
   "cell_type": "code",
   "execution_count": null,
   "metadata": {},
   "outputs": [],
   "source": [
    "print(1)"
   ]
  },
  {
   "cell_type": "code",
   "execution_count": null,
   "metadata": {},
   "outputs": [],
   "source": []
  }
 ],
 "metadata": {
  "kernelspec": {
   "display_name": "genesis-online",
   "language": "python",
   "name": "python3"
  },
  "language_info": {
   "codemirror_mode": {
    "name": "ipython",
    "version": 3
   },
   "file_extension": ".py",
   "mimetype": "text/x-python",
   "name": "python",
   "nbconvert_exporter": "python",
   "pygments_lexer": "ipython3",
   "version": "3.11.4"
  },
  "orig_nbformat": 4
 },
 "nbformat": 4,
 "nbformat_minor": 2
}
